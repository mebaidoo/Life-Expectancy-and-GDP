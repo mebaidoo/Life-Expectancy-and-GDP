{
 "cells": [
  {
   "cell_type": "code",
   "execution_count": 85,
   "metadata": {},
   "outputs": [],
   "source": [
    "#Importing libraries to be used\n",
    "import pandas as pd\n",
    "from matplotlib import pyplot as plt\n",
    "import seaborn as sns\n",
    "import numpy as np"
   ]
  },
  {
   "cell_type": "code",
   "execution_count": 86,
   "metadata": {},
   "outputs": [
    {
     "data": {
      "text/html": [
       "<div>\n",
       "<style scoped>\n",
       "    .dataframe tbody tr th:only-of-type {\n",
       "        vertical-align: middle;\n",
       "    }\n",
       "\n",
       "    .dataframe tbody tr th {\n",
       "        vertical-align: top;\n",
       "    }\n",
       "\n",
       "    .dataframe thead th {\n",
       "        text-align: right;\n",
       "    }\n",
       "</style>\n",
       "<table border=\"1\" class=\"dataframe\">\n",
       "  <thead>\n",
       "    <tr style=\"text-align: right;\">\n",
       "      <th></th>\n",
       "      <th>Country</th>\n",
       "      <th>Year</th>\n",
       "      <th>Life expectancy at birth (years)</th>\n",
       "      <th>GDP</th>\n",
       "    </tr>\n",
       "  </thead>\n",
       "  <tbody>\n",
       "    <tr>\n",
       "      <th>0</th>\n",
       "      <td>Chile</td>\n",
       "      <td>2000</td>\n",
       "      <td>77.3</td>\n",
       "      <td>7.786093e+10</td>\n",
       "    </tr>\n",
       "    <tr>\n",
       "      <th>1</th>\n",
       "      <td>Chile</td>\n",
       "      <td>2001</td>\n",
       "      <td>77.3</td>\n",
       "      <td>7.097992e+10</td>\n",
       "    </tr>\n",
       "    <tr>\n",
       "      <th>2</th>\n",
       "      <td>Chile</td>\n",
       "      <td>2002</td>\n",
       "      <td>77.8</td>\n",
       "      <td>6.973681e+10</td>\n",
       "    </tr>\n",
       "    <tr>\n",
       "      <th>3</th>\n",
       "      <td>Chile</td>\n",
       "      <td>2003</td>\n",
       "      <td>77.9</td>\n",
       "      <td>7.564346e+10</td>\n",
       "    </tr>\n",
       "    <tr>\n",
       "      <th>4</th>\n",
       "      <td>Chile</td>\n",
       "      <td>2004</td>\n",
       "      <td>78.0</td>\n",
       "      <td>9.921039e+10</td>\n",
       "    </tr>\n",
       "  </tbody>\n",
       "</table>\n",
       "</div>"
      ],
      "text/plain": [
       "  Country  Year  Life expectancy at birth (years)           GDP\n",
       "0   Chile  2000                              77.3  7.786093e+10\n",
       "1   Chile  2001                              77.3  7.097992e+10\n",
       "2   Chile  2002                              77.8  6.973681e+10\n",
       "3   Chile  2003                              77.9  7.564346e+10\n",
       "4   Chile  2004                              78.0  9.921039e+10"
      ]
     },
     "execution_count": 86,
     "metadata": {},
     "output_type": "execute_result"
    }
   ],
   "source": [
    "#Loading the life expectancy and GDP data into a pandas dataframe\n",
    "life_gdp = pd.read_csv(\"all_data.csv\")\n",
    "life_gdp.head()"
   ]
  },
  {
   "cell_type": "code",
   "execution_count": 87,
   "metadata": {},
   "outputs": [],
   "source": [
    "#Changing United States of America to USA to make it easier to work with\n",
    "life_gdp[\"Country\"] = life_gdp.Country.replace(\"United States of America\", \"USA\")"
   ]
  },
  {
   "cell_type": "code",
   "execution_count": 88,
   "metadata": {},
   "outputs": [
    {
     "name": "stdout",
     "output_type": "stream",
     "text": [
      "<class 'pandas.core.frame.DataFrame'>\n",
      "RangeIndex: 96 entries, 0 to 95\n",
      "Data columns (total 4 columns):\n",
      " #   Column                            Non-Null Count  Dtype  \n",
      "---  ------                            --------------  -----  \n",
      " 0   Country                           96 non-null     object \n",
      " 1   Year                              96 non-null     int64  \n",
      " 2   Life expectancy at birth (years)  96 non-null     float64\n",
      " 3   GDP                               96 non-null     float64\n",
      "dtypes: float64(2), int64(1), object(1)\n",
      "memory usage: 3.1+ KB\n"
     ]
    }
   ],
   "source": [
    "#Checking the info of the dataframe\n",
    "life_gdp.info()"
   ]
  },
  {
   "cell_type": "code",
   "execution_count": 89,
   "metadata": {},
   "outputs": [
    {
     "data": {
      "text/html": [
       "<div>\n",
       "<style scoped>\n",
       "    .dataframe tbody tr th:only-of-type {\n",
       "        vertical-align: middle;\n",
       "    }\n",
       "\n",
       "    .dataframe tbody tr th {\n",
       "        vertical-align: top;\n",
       "    }\n",
       "\n",
       "    .dataframe thead th {\n",
       "        text-align: right;\n",
       "    }\n",
       "</style>\n",
       "<table border=\"1\" class=\"dataframe\">\n",
       "  <thead>\n",
       "    <tr style=\"text-align: right;\">\n",
       "      <th></th>\n",
       "      <th>Country</th>\n",
       "      <th>Year</th>\n",
       "      <th>Life_Expectancy</th>\n",
       "      <th>GDP</th>\n",
       "    </tr>\n",
       "  </thead>\n",
       "  <tbody>\n",
       "    <tr>\n",
       "      <th>0</th>\n",
       "      <td>Chile</td>\n",
       "      <td>2000</td>\n",
       "      <td>77.3</td>\n",
       "      <td>7.786093e+10</td>\n",
       "    </tr>\n",
       "    <tr>\n",
       "      <th>1</th>\n",
       "      <td>Chile</td>\n",
       "      <td>2001</td>\n",
       "      <td>77.3</td>\n",
       "      <td>7.097992e+10</td>\n",
       "    </tr>\n",
       "    <tr>\n",
       "      <th>2</th>\n",
       "      <td>Chile</td>\n",
       "      <td>2002</td>\n",
       "      <td>77.8</td>\n",
       "      <td>6.973681e+10</td>\n",
       "    </tr>\n",
       "    <tr>\n",
       "      <th>3</th>\n",
       "      <td>Chile</td>\n",
       "      <td>2003</td>\n",
       "      <td>77.9</td>\n",
       "      <td>7.564346e+10</td>\n",
       "    </tr>\n",
       "    <tr>\n",
       "      <th>4</th>\n",
       "      <td>Chile</td>\n",
       "      <td>2004</td>\n",
       "      <td>78.0</td>\n",
       "      <td>9.921039e+10</td>\n",
       "    </tr>\n",
       "  </tbody>\n",
       "</table>\n",
       "</div>"
      ],
      "text/plain": [
       "  Country  Year  Life_Expectancy           GDP\n",
       "0   Chile  2000             77.3  7.786093e+10\n",
       "1   Chile  2001             77.3  7.097992e+10\n",
       "2   Chile  2002             77.8  6.973681e+10\n",
       "3   Chile  2003             77.9  7.564346e+10\n",
       "4   Chile  2004             78.0  9.921039e+10"
      ]
     },
     "execution_count": 89,
     "metadata": {},
     "output_type": "execute_result"
    }
   ],
   "source": [
    "#Changing the life expectancy column name to make it easier to work with\n",
    "life_gdp.rename(columns = {\"Life expectancy at birth (years)\": \"Life_Expectancy\"}, inplace = True)\n",
    "life_gdp.head()"
   ]
  },
  {
   "cell_type": "code",
   "execution_count": 90,
   "metadata": {},
   "outputs": [
    {
     "data": {
      "text/plain": [
       "Country\n",
       "Chile       78.94375\n",
       "China       74.26250\n",
       "Germany     79.65625\n",
       "Mexico      75.71875\n",
       "USA         78.06250\n",
       "Zimbabwe    50.09375\n",
       "Name: Life_Expectancy, dtype: float64"
      ]
     },
     "execution_count": 90,
     "metadata": {},
     "output_type": "execute_result"
    }
   ],
   "source": [
    "#Calculating average life expectancy for each country\n",
    "life_gdp.groupby(\"Country\").Life_Expectancy.mean()"
   ]
  },
  {
   "cell_type": "code",
   "execution_count": 91,
   "metadata": {},
   "outputs": [
    {
     "data": {
      "text/plain": [
       "Country\n",
       "Chile       1.697888e+11\n",
       "China       4.957714e+12\n",
       "Germany     3.094776e+12\n",
       "Mexico      9.766506e+11\n",
       "USA         1.407500e+13\n",
       "Zimbabwe    9.062580e+09\n",
       "Name: GDP, dtype: float64"
      ]
     },
     "execution_count": 91,
     "metadata": {},
     "output_type": "execute_result"
    }
   ],
   "source": [
    "#Calculating average gdp for each country\n",
    "life_gdp.groupby(\"Country\").GDP.mean()"
   ]
  },
  {
   "cell_type": "code",
   "execution_count": 92,
   "metadata": {},
   "outputs": [
    {
     "data": {
      "image/png": "[encoded data removed]",
      "text/plain": [
       "<Figure size 432x288 with 1 Axes>"
      ]
     },
     "metadata": {
      "needs_background": "light"
     },
     "output_type": "display_data"
    }
   ],
   "source": [
    "#Visualizing the average gdp for each country across years using a bar plot\n",
    "ax = sns.barplot(data = life_gdp, x = \"Country\", y = \"GDP\", hue = \"Year\")\n",
    "plt.title(\"Average Country GDP Across Years\")\n",
    "plt.xticks(rotation = 30)\n",
    "plt.legend(loc = 4, bbox_to_anchor = (1.0, 0.1))\n",
    "plt.setp(ax.get_legend().get_texts(), fontsize='7')\n",
    "plt.savefig(\"Average GDP Bar Plot.png\")"
   ]
  },
  {
   "cell_type": "code",
   "execution_count": 93,
   "metadata": {},
   "outputs": [
    {
     "data": {
      "image/png": "[encoded data removed]",
      "text/plain": [
       "<Figure size 432x288 with 1 Axes>"
      ]
     },
     "metadata": {
      "needs_background": "light"
     },
     "output_type": "display_data"
    }
   ],
   "source": [
    "#Visualizing the average life expectancies for each country across years a bar plot\n",
    "ax1 = sns.barplot(data = life_gdp, x = \"Country\", y = \"Life_Expectancy\", hue = \"Year\")\n",
    "plt.title(\"Average Country Life Expectancies Across Years\")\n",
    "plt.xticks(rotation = 30)\n",
    "plt.legend(loc = 4, bbox_to_anchor = (1.0, 0))\n",
    "plt.setp(ax1.get_legend().get_texts(), fontsize='7')\n",
    "plt.savefig(\"Average Life Expectancies Bar Plot.png\")"
   ]
  },
  {
   "cell_type": "code",
   "execution_count": 97,
   "metadata": {
    "scrolled": true
   },
   "outputs": [
    {
     "data": {
      "image/png": "[encoded data removed]",
      "text/plain": [
       "<Figure size 432x288 with 6 Axes>"
      ]
     },
     "metadata": {
      "needs_background": "light"
     },
     "output_type": "display_data"
    }
   ],
   "source": [
    "#Visualizing the relationship between life expectancy and GDP for each country to see if there is any correlation using a scatter plot\n",
    "fig = plt.figure()\n",
    "plt.subplots_adjust(wspace = 0.5, hspace = 0.5)\n",
    "fig.suptitle(\"Life Expectancy Vs. GDP For Each Country\")\n",
    "plt.subplot(2, 3, 1)\n",
    "sns.scatterplot(data = life_gdp[life_gdp.Country == \"Chile\"], x = \"GDP\", y = \"Life_Expectancy\", label = \"Chile\")\n",
    "plt.subplot(2, 3, 2)\n",
    "sns.scatterplot(data = life_gdp[life_gdp.Country == \"China\"], x = \"GDP\", y = \"Life_Expectancy\", label = \"China\")\n",
    "plt.subplot(2, 3, 3)\n",
    "sns.scatterplot(data = life_gdp[life_gdp.Country == \"Germany\"], x = \"GDP\", y = \"Life_Expectancy\", label = \"Germany\")\n",
    "plt.subplot(2, 3, 4)\n",
    "sns.scatterplot(data = life_gdp[life_gdp.Country == \"Mexico\"], x = \"GDP\", y = \"Life_Expectancy\", label = \"Mexico\")\n",
    "plt.subplot(2, 3, 5)\n",
    "sns.scatterplot(data = life_gdp[life_gdp.Country == \"USA\"], x = \"GDP\", y = \"Life_Expectancy\", label = \"USA\")\n",
    "plt.subplot(2, 3, 6)\n",
    "sns.scatterplot(data = life_gdp[life_gdp.Country == \"Zimbabwe\"], x = \"GDP\", y = \"Life_Expectancy\", label = \"Zimbabwe\")\n",
    "plt.savefig(\"Life Expectancy and GDP Relationship.png\")\n",
    "#Could simply use a for loop here though"
   ]
  },
  {
   "cell_type": "code",
   "execution_count": 95,
   "metadata": {},
   "outputs": [],
   "source": [
    "# Conclusions\n",
    "#The average life expectancies increases across the years for each country. This is the same for GDP.\n",
    "#Zimbabwe recorded the lowest average life expectancies for all the specified years. \n",
    "#The other five countries had about the same average life expectancies across the years.\n",
    "#Zimbabwe contributes the lowest GDP, followed by Chile, Mexico, Germany, China with USA contributing the highest GDP across the years.\n",
    "#There is a positive correlation between life expectancy and GDP for each country."
   ]
  }
 ],
 "metadata": {
  "kernelspec": {
   "display_name": "Python 3",
   "language": "python",
   "name": "python3"
  },
  "language_info": {
   "codemirror_mode": {
    "name": "ipython",
    "version": 3
   },
   "file_extension": ".py",
   "mimetype": "text/x-python",
   "name": "python",
   "nbconvert_exporter": "python",
   "pygments_lexer": "ipython3",
   "version": "3.7.0"
  }
 },
 "nbformat": 4,
 "nbformat_minor": 4
}
